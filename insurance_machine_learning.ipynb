{
 "cells": [
  {
   "cell_type": "code",
   "execution_count": 1,
   "metadata": {},
   "outputs": [],
   "source": [
    "# Import the modules\n",
    "import pandas as pd\n",
    "from sklearn.linear_model import LinearRegression\n",
    "from sklearn.tree import DecisionTreeRegressor\n",
    "from sklearn.metrics import mean_squared_error, r2_score\n",
    "import hvplot.pandas\n",
    "\n"
   ]
  },
  {
   "cell_type": "code",
   "execution_count": 2,
   "metadata": {},
   "outputs": [
    {
     "data": {
      "text/html": [
       "<div>\n",
       "<style scoped>\n",
       "    .dataframe tbody tr th:only-of-type {\n",
       "        vertical-align: middle;\n",
       "    }\n",
       "\n",
       "    .dataframe tbody tr th {\n",
       "        vertical-align: top;\n",
       "    }\n",
       "\n",
       "    .dataframe thead th {\n",
       "        text-align: right;\n",
       "    }\n",
       "</style>\n",
       "<table border=\"1\" class=\"dataframe\">\n",
       "  <thead>\n",
       "    <tr style=\"text-align: right;\">\n",
       "      <th></th>\n",
       "      <th>age</th>\n",
       "      <th>gender</th>\n",
       "      <th>bmi</th>\n",
       "      <th>children</th>\n",
       "      <th>smoker</th>\n",
       "      <th>region</th>\n",
       "      <th>medical_history</th>\n",
       "      <th>family_medical_history</th>\n",
       "      <th>exercise_frequency</th>\n",
       "      <th>occupation</th>\n",
       "      <th>coverage_level</th>\n",
       "      <th>charges</th>\n",
       "    </tr>\n",
       "  </thead>\n",
       "  <tbody>\n",
       "    <tr>\n",
       "      <th>0</th>\n",
       "      <td>46</td>\n",
       "      <td>male</td>\n",
       "      <td>21.45</td>\n",
       "      <td>5</td>\n",
       "      <td>yes</td>\n",
       "      <td>southeast</td>\n",
       "      <td>Diabetes</td>\n",
       "      <td>None</td>\n",
       "      <td>Never</td>\n",
       "      <td>Blue collar</td>\n",
       "      <td>Premium</td>\n",
       "      <td>20460.307669</td>\n",
       "    </tr>\n",
       "    <tr>\n",
       "      <th>1</th>\n",
       "      <td>25</td>\n",
       "      <td>female</td>\n",
       "      <td>25.38</td>\n",
       "      <td>2</td>\n",
       "      <td>yes</td>\n",
       "      <td>northwest</td>\n",
       "      <td>Diabetes</td>\n",
       "      <td>High blood pressure</td>\n",
       "      <td>Occasionally</td>\n",
       "      <td>White collar</td>\n",
       "      <td>Premium</td>\n",
       "      <td>20390.899218</td>\n",
       "    </tr>\n",
       "    <tr>\n",
       "      <th>2</th>\n",
       "      <td>38</td>\n",
       "      <td>male</td>\n",
       "      <td>44.88</td>\n",
       "      <td>2</td>\n",
       "      <td>yes</td>\n",
       "      <td>southwest</td>\n",
       "      <td>None</td>\n",
       "      <td>High blood pressure</td>\n",
       "      <td>Occasionally</td>\n",
       "      <td>Blue collar</td>\n",
       "      <td>Premium</td>\n",
       "      <td>20204.476302</td>\n",
       "    </tr>\n",
       "    <tr>\n",
       "      <th>3</th>\n",
       "      <td>25</td>\n",
       "      <td>male</td>\n",
       "      <td>19.89</td>\n",
       "      <td>0</td>\n",
       "      <td>no</td>\n",
       "      <td>northwest</td>\n",
       "      <td>None</td>\n",
       "      <td>Diabetes</td>\n",
       "      <td>Rarely</td>\n",
       "      <td>White collar</td>\n",
       "      <td>Standard</td>\n",
       "      <td>11789.029843</td>\n",
       "    </tr>\n",
       "    <tr>\n",
       "      <th>4</th>\n",
       "      <td>49</td>\n",
       "      <td>male</td>\n",
       "      <td>38.21</td>\n",
       "      <td>3</td>\n",
       "      <td>yes</td>\n",
       "      <td>northwest</td>\n",
       "      <td>Diabetes</td>\n",
       "      <td>High blood pressure</td>\n",
       "      <td>Rarely</td>\n",
       "      <td>White collar</td>\n",
       "      <td>Standard</td>\n",
       "      <td>19268.309838</td>\n",
       "    </tr>\n",
       "  </tbody>\n",
       "</table>\n",
       "</div>"
      ],
      "text/plain": [
       "   age  gender    bmi  children smoker     region medical_history  \\\n",
       "0   46    male  21.45         5    yes  southeast        Diabetes   \n",
       "1   25  female  25.38         2    yes  northwest        Diabetes   \n",
       "2   38    male  44.88         2    yes  southwest            None   \n",
       "3   25    male  19.89         0     no  northwest            None   \n",
       "4   49    male  38.21         3    yes  northwest        Diabetes   \n",
       "\n",
       "  family_medical_history exercise_frequency    occupation coverage_level  \\\n",
       "0                   None              Never   Blue collar        Premium   \n",
       "1    High blood pressure       Occasionally  White collar        Premium   \n",
       "2    High blood pressure       Occasionally   Blue collar        Premium   \n",
       "3               Diabetes             Rarely  White collar       Standard   \n",
       "4    High blood pressure             Rarely  White collar       Standard   \n",
       "\n",
       "        charges  \n",
       "0  20460.307669  \n",
       "1  20390.899218  \n",
       "2  20204.476302  \n",
       "3  11789.029843  \n",
       "4  19268.309838  "
      ]
     },
     "execution_count": 2,
     "metadata": {},
     "output_type": "execute_result"
    }
   ],
   "source": [
    "#  Import and read the charity_data.csv.\n",
    "insurance_df = pd.read_csv(\"./Resources/insurance_dataset.csv\")\n",
    "insurance_df.head()"
   ]
  },
  {
   "cell_type": "code",
   "execution_count": 3,
   "metadata": {},
   "outputs": [
    {
     "data": {
      "text/plain": [
       "age                       False\n",
       "gender                    False\n",
       "bmi                       False\n",
       "children                  False\n",
       "smoker                    False\n",
       "region                    False\n",
       "medical_history           False\n",
       "family_medical_history    False\n",
       "exercise_frequency        False\n",
       "occupation                False\n",
       "coverage_level            False\n",
       "charges                   False\n",
       "dtype: bool"
      ]
     },
     "execution_count": 3,
     "metadata": {},
     "output_type": "execute_result"
    }
   ],
   "source": [
    "#Check for null values in the dataframe\n",
    "insurance_df.isnull().any()"
   ]
  },
  {
   "cell_type": "code",
   "execution_count": 4,
   "metadata": {},
   "outputs": [
    {
     "data": {
      "text/html": [
       "<div>\n",
       "<style scoped>\n",
       "    .dataframe tbody tr th:only-of-type {\n",
       "        vertical-align: middle;\n",
       "    }\n",
       "\n",
       "    .dataframe tbody tr th {\n",
       "        vertical-align: top;\n",
       "    }\n",
       "\n",
       "    .dataframe thead th {\n",
       "        text-align: right;\n",
       "    }\n",
       "</style>\n",
       "<table border=\"1\" class=\"dataframe\">\n",
       "  <thead>\n",
       "    <tr style=\"text-align: right;\">\n",
       "      <th></th>\n",
       "      <th>age</th>\n",
       "      <th>bmi</th>\n",
       "      <th>children</th>\n",
       "      <th>charges</th>\n",
       "    </tr>\n",
       "  </thead>\n",
       "  <tbody>\n",
       "    <tr>\n",
       "      <th>count</th>\n",
       "      <td>1000000.000000</td>\n",
       "      <td>1000000.000000</td>\n",
       "      <td>1000000.000000</td>\n",
       "      <td>1000000.000000</td>\n",
       "    </tr>\n",
       "    <tr>\n",
       "      <th>mean</th>\n",
       "      <td>41.495282</td>\n",
       "      <td>34.001839</td>\n",
       "      <td>2.499886</td>\n",
       "      <td>16735.117481</td>\n",
       "    </tr>\n",
       "    <tr>\n",
       "      <th>std</th>\n",
       "      <td>13.855189</td>\n",
       "      <td>9.231680</td>\n",
       "      <td>1.707679</td>\n",
       "      <td>4415.808211</td>\n",
       "    </tr>\n",
       "    <tr>\n",
       "      <th>min</th>\n",
       "      <td>18.000000</td>\n",
       "      <td>18.000000</td>\n",
       "      <td>0.000000</td>\n",
       "      <td>3445.011643</td>\n",
       "    </tr>\n",
       "    <tr>\n",
       "      <th>25%</th>\n",
       "      <td>29.000000</td>\n",
       "      <td>26.020000</td>\n",
       "      <td>1.000000</td>\n",
       "      <td>13600.372379</td>\n",
       "    </tr>\n",
       "    <tr>\n",
       "      <th>50%</th>\n",
       "      <td>41.000000</td>\n",
       "      <td>34.000000</td>\n",
       "      <td>2.000000</td>\n",
       "      <td>16622.127973</td>\n",
       "    </tr>\n",
       "    <tr>\n",
       "      <th>75%</th>\n",
       "      <td>53.000000</td>\n",
       "      <td>41.990000</td>\n",
       "      <td>4.000000</td>\n",
       "      <td>19781.465410</td>\n",
       "    </tr>\n",
       "    <tr>\n",
       "      <th>max</th>\n",
       "      <td>65.000000</td>\n",
       "      <td>50.000000</td>\n",
       "      <td>5.000000</td>\n",
       "      <td>32561.560374</td>\n",
       "    </tr>\n",
       "  </tbody>\n",
       "</table>\n",
       "</div>"
      ],
      "text/plain": [
       "                  age             bmi        children         charges\n",
       "count  1000000.000000  1000000.000000  1000000.000000  1000000.000000\n",
       "mean        41.495282       34.001839        2.499886    16735.117481\n",
       "std         13.855189        9.231680        1.707679     4415.808211\n",
       "min         18.000000       18.000000        0.000000     3445.011643\n",
       "25%         29.000000       26.020000        1.000000    13600.372379\n",
       "50%         41.000000       34.000000        2.000000    16622.127973\n",
       "75%         53.000000       41.990000        4.000000    19781.465410\n",
       "max         65.000000       50.000000        5.000000    32561.560374"
      ]
     },
     "execution_count": 4,
     "metadata": {},
     "output_type": "execute_result"
    }
   ],
   "source": [
    "#Get the summary statistics for numerical columns in the DataFrame \n",
    "insurance_df.describe()"
   ]
  },
  {
   "cell_type": "code",
   "execution_count": 5,
   "metadata": {},
   "outputs": [
    {
     "name": "stdout",
     "output_type": "stream",
     "text": [
      "<class 'pandas.core.frame.DataFrame'>\n",
      "RangeIndex: 1000000 entries, 0 to 999999\n",
      "Data columns (total 12 columns):\n",
      " #   Column                  Non-Null Count    Dtype  \n",
      "---  ------                  --------------    -----  \n",
      " 0   age                     1000000 non-null  int64  \n",
      " 1   gender                  1000000 non-null  object \n",
      " 2   bmi                     1000000 non-null  float64\n",
      " 3   children                1000000 non-null  int64  \n",
      " 4   smoker                  1000000 non-null  object \n",
      " 5   region                  1000000 non-null  object \n",
      " 6   medical_history         1000000 non-null  object \n",
      " 7   family_medical_history  1000000 non-null  object \n",
      " 8   exercise_frequency      1000000 non-null  object \n",
      " 9   occupation              1000000 non-null  object \n",
      " 10  coverage_level          1000000 non-null  object \n",
      " 11  charges                 1000000 non-null  float64\n",
      "dtypes: float64(2), int64(2), object(8)\n",
      "memory usage: 91.6+ MB\n"
     ]
    }
   ],
   "source": [
    "#Check data types \n",
    "insurance_df.info()"
   ]
  },
  {
   "cell_type": "markdown",
   "metadata": {},
   "source": [
    "As seen in Above table, the dataframe consists of 4 Numerical fields and 8 the categorial Fields"
   ]
  },
  {
   "cell_type": "code",
   "execution_count": 6,
   "metadata": {},
   "outputs": [
    {
     "data": {
      "text/plain": [
       "None                   250762\n",
       "Heart disease          250121\n",
       "High blood pressure    249782\n",
       "Diabetes               249335\n",
       "Name: medical_history, dtype: int64"
      ]
     },
     "execution_count": 6,
     "metadata": {},
     "output_type": "execute_result"
    }
   ],
   "source": [
    "# Look at medical_history value counts for binning\n",
    "insurance_df[\"medical_history\"].value_counts()"
   ]
  },
  {
   "cell_type": "code",
   "execution_count": 7,
   "metadata": {},
   "outputs": [
    {
     "data": {
      "text/plain": [
       "None                   250404\n",
       "Heart disease          250035\n",
       "High blood pressure    249824\n",
       "Diabetes               249737\n",
       "Name: family_medical_history, dtype: int64"
      ]
     },
     "execution_count": 7,
     "metadata": {},
     "output_type": "execute_result"
    }
   ],
   "source": [
    "# Look at family_medical_history value counts for binning\n",
    "insurance_df['family_medical_history'].value_counts()"
   ]
  },
  {
   "cell_type": "code",
   "execution_count": 8,
   "metadata": {},
   "outputs": [
    {
     "data": {
      "text/plain": [
       "Rarely          250538\n",
       "Occasionally    250362\n",
       "Frequently      249746\n",
       "Never           249354\n",
       "Name: exercise_frequency, dtype: int64"
      ]
     },
     "execution_count": 8,
     "metadata": {},
     "output_type": "execute_result"
    }
   ],
   "source": [
    "# Look at exercise_frequency value counts for binning\n",
    "insurance_df['exercise_frequency'].value_counts()"
   ]
  },
  {
   "cell_type": "code",
   "execution_count": 9,
   "metadata": {},
   "outputs": [
    {
     "data": {
      "text/plain": [
       "Unemployed      250571\n",
       "Student         250279\n",
       "Blue collar     249825\n",
       "White collar    249325\n",
       "Name: occupation, dtype: int64"
      ]
     },
     "execution_count": 9,
     "metadata": {},
     "output_type": "execute_result"
    }
   ],
   "source": [
    "# Look at occupation value counts for binning\n",
    "insurance_df['occupation'].value_counts()"
   ]
  },
  {
   "cell_type": "code",
   "execution_count": 10,
   "metadata": {},
   "outputs": [
    {
     "data": {
      "text/plain": [
       "Basic       333515\n",
       "Standard    333508\n",
       "Premium     332977\n",
       "Name: coverage_level, dtype: int64"
      ]
     },
     "execution_count": 10,
     "metadata": {},
     "output_type": "execute_result"
    }
   ],
   "source": [
    "# Look at occupation coverage_level value counts for binning\n",
    "insurance_df['coverage_level'].value_counts()"
   ]
  },
  {
   "cell_type": "code",
   "execution_count": 11,
   "metadata": {},
   "outputs": [
    {
     "data": {
      "text/plain": [
       "20460.307669    1\n",
       "18052.397610    1\n",
       "12177.344390    1\n",
       "19065.593605    1\n",
       "11276.371195    1\n",
       "               ..\n",
       "21941.737409    1\n",
       "16723.873993    1\n",
       "16466.975023    1\n",
       "16959.139174    1\n",
       "23429.725030    1\n",
       "Name: charges, Length: 1000000, dtype: int64"
      ]
     },
     "execution_count": 11,
     "metadata": {},
     "output_type": "execute_result"
    }
   ],
   "source": [
    "insurance_df['charges'].value_counts()"
   ]
  },
  {
   "cell_type": "code",
   "execution_count": 12,
   "metadata": {},
   "outputs": [
    {
     "data": {
      "text/plain": [
       "Index(['age', 'gender', 'bmi', 'children', 'smoker', 'region',\n",
       "       'medical_history', 'family_medical_history', 'exercise_frequency',\n",
       "       'occupation', 'coverage_level', 'charges'],\n",
       "      dtype='object')"
      ]
     },
     "execution_count": 12,
     "metadata": {},
     "output_type": "execute_result"
    }
   ],
   "source": [
    "#Check the columns for dataframe\n",
    "insurance_df.columns\n"
   ]
  },
  {
   "cell_type": "code",
   "execution_count": 13,
   "metadata": {},
   "outputs": [
    {
     "data": {
      "text/plain": [
       "Index(['age', 'bmi', 'children', 'charges', 'gender_female', 'gender_male',\n",
       "       'smoker_no', 'smoker_yes', 'region_northeast', 'region_northwest',\n",
       "       'region_southeast', 'region_southwest', 'medical_history_Diabetes',\n",
       "       'medical_history_Heart disease', 'medical_history_High blood pressure',\n",
       "       'medical_history_None', 'family_medical_history_Diabetes',\n",
       "       'family_medical_history_Heart disease',\n",
       "       'family_medical_history_High blood pressure',\n",
       "       'family_medical_history_None', 'exercise_frequency_Frequently',\n",
       "       'exercise_frequency_Never', 'exercise_frequency_Occasionally',\n",
       "       'exercise_frequency_Rarely', 'occupation_Blue collar',\n",
       "       'occupation_Student', 'occupation_Unemployed',\n",
       "       'occupation_White collar', 'coverage_level_Basic',\n",
       "       'coverage_level_Premium', 'coverage_level_Standard'],\n",
       "      dtype='object')"
      ]
     },
     "execution_count": 13,
     "metadata": {},
     "output_type": "execute_result"
    }
   ],
   "source": [
    "#Convert the Categorial values to Numeric values and Concatenate\n",
    "concatenated_df = pd.get_dummies(insurance_df)\n",
    "concatenated_df.columns"
   ]
  },
  {
   "cell_type": "code",
   "execution_count": 14,
   "metadata": {},
   "outputs": [
    {
     "data": {
      "text/html": [
       "<div>\n",
       "<style scoped>\n",
       "    .dataframe tbody tr th:only-of-type {\n",
       "        vertical-align: middle;\n",
       "    }\n",
       "\n",
       "    .dataframe tbody tr th {\n",
       "        vertical-align: top;\n",
       "    }\n",
       "\n",
       "    .dataframe thead th {\n",
       "        text-align: right;\n",
       "    }\n",
       "</style>\n",
       "<table border=\"1\" class=\"dataframe\">\n",
       "  <thead>\n",
       "    <tr style=\"text-align: right;\">\n",
       "      <th></th>\n",
       "      <th>age</th>\n",
       "      <th>bmi</th>\n",
       "      <th>children</th>\n",
       "      <th>charges</th>\n",
       "      <th>gender_female</th>\n",
       "      <th>gender_male</th>\n",
       "      <th>smoker_no</th>\n",
       "      <th>smoker_yes</th>\n",
       "      <th>region_northeast</th>\n",
       "      <th>region_northwest</th>\n",
       "      <th>...</th>\n",
       "      <th>exercise_frequency_Never</th>\n",
       "      <th>exercise_frequency_Occasionally</th>\n",
       "      <th>exercise_frequency_Rarely</th>\n",
       "      <th>occupation_Blue collar</th>\n",
       "      <th>occupation_Student</th>\n",
       "      <th>occupation_Unemployed</th>\n",
       "      <th>occupation_White collar</th>\n",
       "      <th>coverage_level_Basic</th>\n",
       "      <th>coverage_level_Premium</th>\n",
       "      <th>coverage_level_Standard</th>\n",
       "    </tr>\n",
       "  </thead>\n",
       "  <tbody>\n",
       "    <tr>\n",
       "      <th>0</th>\n",
       "      <td>46</td>\n",
       "      <td>21.45</td>\n",
       "      <td>5</td>\n",
       "      <td>20460.307669</td>\n",
       "      <td>0</td>\n",
       "      <td>1</td>\n",
       "      <td>0</td>\n",
       "      <td>1</td>\n",
       "      <td>0</td>\n",
       "      <td>0</td>\n",
       "      <td>...</td>\n",
       "      <td>1</td>\n",
       "      <td>0</td>\n",
       "      <td>0</td>\n",
       "      <td>1</td>\n",
       "      <td>0</td>\n",
       "      <td>0</td>\n",
       "      <td>0</td>\n",
       "      <td>0</td>\n",
       "      <td>1</td>\n",
       "      <td>0</td>\n",
       "    </tr>\n",
       "    <tr>\n",
       "      <th>1</th>\n",
       "      <td>25</td>\n",
       "      <td>25.38</td>\n",
       "      <td>2</td>\n",
       "      <td>20390.899218</td>\n",
       "      <td>1</td>\n",
       "      <td>0</td>\n",
       "      <td>0</td>\n",
       "      <td>1</td>\n",
       "      <td>0</td>\n",
       "      <td>1</td>\n",
       "      <td>...</td>\n",
       "      <td>0</td>\n",
       "      <td>1</td>\n",
       "      <td>0</td>\n",
       "      <td>0</td>\n",
       "      <td>0</td>\n",
       "      <td>0</td>\n",
       "      <td>1</td>\n",
       "      <td>0</td>\n",
       "      <td>1</td>\n",
       "      <td>0</td>\n",
       "    </tr>\n",
       "    <tr>\n",
       "      <th>2</th>\n",
       "      <td>38</td>\n",
       "      <td>44.88</td>\n",
       "      <td>2</td>\n",
       "      <td>20204.476302</td>\n",
       "      <td>0</td>\n",
       "      <td>1</td>\n",
       "      <td>0</td>\n",
       "      <td>1</td>\n",
       "      <td>0</td>\n",
       "      <td>0</td>\n",
       "      <td>...</td>\n",
       "      <td>0</td>\n",
       "      <td>1</td>\n",
       "      <td>0</td>\n",
       "      <td>1</td>\n",
       "      <td>0</td>\n",
       "      <td>0</td>\n",
       "      <td>0</td>\n",
       "      <td>0</td>\n",
       "      <td>1</td>\n",
       "      <td>0</td>\n",
       "    </tr>\n",
       "    <tr>\n",
       "      <th>3</th>\n",
       "      <td>25</td>\n",
       "      <td>19.89</td>\n",
       "      <td>0</td>\n",
       "      <td>11789.029843</td>\n",
       "      <td>0</td>\n",
       "      <td>1</td>\n",
       "      <td>1</td>\n",
       "      <td>0</td>\n",
       "      <td>0</td>\n",
       "      <td>1</td>\n",
       "      <td>...</td>\n",
       "      <td>0</td>\n",
       "      <td>0</td>\n",
       "      <td>1</td>\n",
       "      <td>0</td>\n",
       "      <td>0</td>\n",
       "      <td>0</td>\n",
       "      <td>1</td>\n",
       "      <td>0</td>\n",
       "      <td>0</td>\n",
       "      <td>1</td>\n",
       "    </tr>\n",
       "    <tr>\n",
       "      <th>4</th>\n",
       "      <td>49</td>\n",
       "      <td>38.21</td>\n",
       "      <td>3</td>\n",
       "      <td>19268.309838</td>\n",
       "      <td>0</td>\n",
       "      <td>1</td>\n",
       "      <td>0</td>\n",
       "      <td>1</td>\n",
       "      <td>0</td>\n",
       "      <td>1</td>\n",
       "      <td>...</td>\n",
       "      <td>0</td>\n",
       "      <td>0</td>\n",
       "      <td>1</td>\n",
       "      <td>0</td>\n",
       "      <td>0</td>\n",
       "      <td>0</td>\n",
       "      <td>1</td>\n",
       "      <td>0</td>\n",
       "      <td>0</td>\n",
       "      <td>1</td>\n",
       "    </tr>\n",
       "  </tbody>\n",
       "</table>\n",
       "<p>5 rows × 31 columns</p>\n",
       "</div>"
      ],
      "text/plain": [
       "   age    bmi  children       charges  gender_female  gender_male  smoker_no  \\\n",
       "0   46  21.45         5  20460.307669              0            1          0   \n",
       "1   25  25.38         2  20390.899218              1            0          0   \n",
       "2   38  44.88         2  20204.476302              0            1          0   \n",
       "3   25  19.89         0  11789.029843              0            1          1   \n",
       "4   49  38.21         3  19268.309838              0            1          0   \n",
       "\n",
       "   smoker_yes  region_northeast  region_northwest  ...  \\\n",
       "0           1                 0                 0  ...   \n",
       "1           1                 0                 1  ...   \n",
       "2           1                 0                 0  ...   \n",
       "3           0                 0                 1  ...   \n",
       "4           1                 0                 1  ...   \n",
       "\n",
       "   exercise_frequency_Never  exercise_frequency_Occasionally  \\\n",
       "0                         1                                0   \n",
       "1                         0                                1   \n",
       "2                         0                                1   \n",
       "3                         0                                0   \n",
       "4                         0                                0   \n",
       "\n",
       "   exercise_frequency_Rarely  occupation_Blue collar  occupation_Student  \\\n",
       "0                          0                       1                   0   \n",
       "1                          0                       0                   0   \n",
       "2                          0                       1                   0   \n",
       "3                          1                       0                   0   \n",
       "4                          1                       0                   0   \n",
       "\n",
       "   occupation_Unemployed  occupation_White collar  coverage_level_Basic  \\\n",
       "0                      0                        0                     0   \n",
       "1                      0                        1                     0   \n",
       "2                      0                        0                     0   \n",
       "3                      0                        1                     0   \n",
       "4                      0                        1                     0   \n",
       "\n",
       "   coverage_level_Premium  coverage_level_Standard  \n",
       "0                       1                        0  \n",
       "1                       1                        0  \n",
       "2                       1                        0  \n",
       "3                       0                        1  \n",
       "4                       0                        1  \n",
       "\n",
       "[5 rows x 31 columns]"
      ]
     },
     "execution_count": 14,
     "metadata": {},
     "output_type": "execute_result"
    }
   ],
   "source": [
    "concatenated_df.head()"
   ]
  },
  {
   "cell_type": "code",
   "execution_count": 15,
   "metadata": {},
   "outputs": [],
   "source": [
    "# Separate the data into labels and features\n",
    "# Separate the y variable, the labels\n",
    "y = concatenated_df['charges']\n",
    "\n",
    "# Separate the X variable, the features\n",
    "X = concatenated_df.drop(columns=\"charges\")"
   ]
  },
  {
   "cell_type": "code",
   "execution_count": 16,
   "metadata": {},
   "outputs": [
    {
     "data": {
      "text/plain": [
       "Index(['age', 'bmi', 'children', 'gender_female', 'gender_male', 'smoker_no',\n",
       "       'smoker_yes', 'region_northeast', 'region_northwest',\n",
       "       'region_southeast', 'region_southwest', 'medical_history_Diabetes',\n",
       "       'medical_history_Heart disease', 'medical_history_High blood pressure',\n",
       "       'medical_history_None', 'family_medical_history_Diabetes',\n",
       "       'family_medical_history_Heart disease',\n",
       "       'family_medical_history_High blood pressure',\n",
       "       'family_medical_history_None', 'exercise_frequency_Frequently',\n",
       "       'exercise_frequency_Never', 'exercise_frequency_Occasionally',\n",
       "       'exercise_frequency_Rarely', 'occupation_Blue collar',\n",
       "       'occupation_Student', 'occupation_Unemployed',\n",
       "       'occupation_White collar', 'coverage_level_Basic',\n",
       "       'coverage_level_Premium', 'coverage_level_Standard'],\n",
       "      dtype='object')"
      ]
     },
     "execution_count": 16,
     "metadata": {},
     "output_type": "execute_result"
    }
   ],
   "source": [
    "#Check columns of Features\n",
    "X.columns"
   ]
  },
  {
   "cell_type": "code",
   "execution_count": 17,
   "metadata": {},
   "outputs": [
    {
     "data": {
      "text/html": [
       "<div>\n",
       "<style scoped>\n",
       "    .dataframe tbody tr th:only-of-type {\n",
       "        vertical-align: middle;\n",
       "    }\n",
       "\n",
       "    .dataframe tbody tr th {\n",
       "        vertical-align: top;\n",
       "    }\n",
       "\n",
       "    .dataframe thead th {\n",
       "        text-align: right;\n",
       "    }\n",
       "</style>\n",
       "<table border=\"1\" class=\"dataframe\">\n",
       "  <thead>\n",
       "    <tr style=\"text-align: right;\">\n",
       "      <th></th>\n",
       "      <th>age</th>\n",
       "      <th>bmi</th>\n",
       "      <th>children</th>\n",
       "      <th>gender_female</th>\n",
       "      <th>gender_male</th>\n",
       "      <th>smoker_no</th>\n",
       "      <th>smoker_yes</th>\n",
       "      <th>region_northeast</th>\n",
       "      <th>region_northwest</th>\n",
       "      <th>region_southeast</th>\n",
       "      <th>...</th>\n",
       "      <th>exercise_frequency_Never</th>\n",
       "      <th>exercise_frequency_Occasionally</th>\n",
       "      <th>exercise_frequency_Rarely</th>\n",
       "      <th>occupation_Blue collar</th>\n",
       "      <th>occupation_Student</th>\n",
       "      <th>occupation_Unemployed</th>\n",
       "      <th>occupation_White collar</th>\n",
       "      <th>coverage_level_Basic</th>\n",
       "      <th>coverage_level_Premium</th>\n",
       "      <th>coverage_level_Standard</th>\n",
       "    </tr>\n",
       "  </thead>\n",
       "  <tbody>\n",
       "    <tr>\n",
       "      <th>0</th>\n",
       "      <td>46</td>\n",
       "      <td>21.45</td>\n",
       "      <td>5</td>\n",
       "      <td>0</td>\n",
       "      <td>1</td>\n",
       "      <td>0</td>\n",
       "      <td>1</td>\n",
       "      <td>0</td>\n",
       "      <td>0</td>\n",
       "      <td>1</td>\n",
       "      <td>...</td>\n",
       "      <td>1</td>\n",
       "      <td>0</td>\n",
       "      <td>0</td>\n",
       "      <td>1</td>\n",
       "      <td>0</td>\n",
       "      <td>0</td>\n",
       "      <td>0</td>\n",
       "      <td>0</td>\n",
       "      <td>1</td>\n",
       "      <td>0</td>\n",
       "    </tr>\n",
       "    <tr>\n",
       "      <th>1</th>\n",
       "      <td>25</td>\n",
       "      <td>25.38</td>\n",
       "      <td>2</td>\n",
       "      <td>1</td>\n",
       "      <td>0</td>\n",
       "      <td>0</td>\n",
       "      <td>1</td>\n",
       "      <td>0</td>\n",
       "      <td>1</td>\n",
       "      <td>0</td>\n",
       "      <td>...</td>\n",
       "      <td>0</td>\n",
       "      <td>1</td>\n",
       "      <td>0</td>\n",
       "      <td>0</td>\n",
       "      <td>0</td>\n",
       "      <td>0</td>\n",
       "      <td>1</td>\n",
       "      <td>0</td>\n",
       "      <td>1</td>\n",
       "      <td>0</td>\n",
       "    </tr>\n",
       "    <tr>\n",
       "      <th>2</th>\n",
       "      <td>38</td>\n",
       "      <td>44.88</td>\n",
       "      <td>2</td>\n",
       "      <td>0</td>\n",
       "      <td>1</td>\n",
       "      <td>0</td>\n",
       "      <td>1</td>\n",
       "      <td>0</td>\n",
       "      <td>0</td>\n",
       "      <td>0</td>\n",
       "      <td>...</td>\n",
       "      <td>0</td>\n",
       "      <td>1</td>\n",
       "      <td>0</td>\n",
       "      <td>1</td>\n",
       "      <td>0</td>\n",
       "      <td>0</td>\n",
       "      <td>0</td>\n",
       "      <td>0</td>\n",
       "      <td>1</td>\n",
       "      <td>0</td>\n",
       "    </tr>\n",
       "    <tr>\n",
       "      <th>3</th>\n",
       "      <td>25</td>\n",
       "      <td>19.89</td>\n",
       "      <td>0</td>\n",
       "      <td>0</td>\n",
       "      <td>1</td>\n",
       "      <td>1</td>\n",
       "      <td>0</td>\n",
       "      <td>0</td>\n",
       "      <td>1</td>\n",
       "      <td>0</td>\n",
       "      <td>...</td>\n",
       "      <td>0</td>\n",
       "      <td>0</td>\n",
       "      <td>1</td>\n",
       "      <td>0</td>\n",
       "      <td>0</td>\n",
       "      <td>0</td>\n",
       "      <td>1</td>\n",
       "      <td>0</td>\n",
       "      <td>0</td>\n",
       "      <td>1</td>\n",
       "    </tr>\n",
       "    <tr>\n",
       "      <th>4</th>\n",
       "      <td>49</td>\n",
       "      <td>38.21</td>\n",
       "      <td>3</td>\n",
       "      <td>0</td>\n",
       "      <td>1</td>\n",
       "      <td>0</td>\n",
       "      <td>1</td>\n",
       "      <td>0</td>\n",
       "      <td>1</td>\n",
       "      <td>0</td>\n",
       "      <td>...</td>\n",
       "      <td>0</td>\n",
       "      <td>0</td>\n",
       "      <td>1</td>\n",
       "      <td>0</td>\n",
       "      <td>0</td>\n",
       "      <td>0</td>\n",
       "      <td>1</td>\n",
       "      <td>0</td>\n",
       "      <td>0</td>\n",
       "      <td>1</td>\n",
       "    </tr>\n",
       "  </tbody>\n",
       "</table>\n",
       "<p>5 rows × 30 columns</p>\n",
       "</div>"
      ],
      "text/plain": [
       "   age    bmi  children  gender_female  gender_male  smoker_no  smoker_yes  \\\n",
       "0   46  21.45         5              0            1          0           1   \n",
       "1   25  25.38         2              1            0          0           1   \n",
       "2   38  44.88         2              0            1          0           1   \n",
       "3   25  19.89         0              0            1          1           0   \n",
       "4   49  38.21         3              0            1          0           1   \n",
       "\n",
       "   region_northeast  region_northwest  region_southeast  ...  \\\n",
       "0                 0                 0                 1  ...   \n",
       "1                 0                 1                 0  ...   \n",
       "2                 0                 0                 0  ...   \n",
       "3                 0                 1                 0  ...   \n",
       "4                 0                 1                 0  ...   \n",
       "\n",
       "   exercise_frequency_Never  exercise_frequency_Occasionally  \\\n",
       "0                         1                                0   \n",
       "1                         0                                1   \n",
       "2                         0                                1   \n",
       "3                         0                                0   \n",
       "4                         0                                0   \n",
       "\n",
       "   exercise_frequency_Rarely  occupation_Blue collar  occupation_Student  \\\n",
       "0                          0                       1                   0   \n",
       "1                          0                       0                   0   \n",
       "2                          0                       1                   0   \n",
       "3                          1                       0                   0   \n",
       "4                          1                       0                   0   \n",
       "\n",
       "   occupation_Unemployed  occupation_White collar  coverage_level_Basic  \\\n",
       "0                      0                        0                     0   \n",
       "1                      0                        1                     0   \n",
       "2                      0                        0                     0   \n",
       "3                      0                        1                     0   \n",
       "4                      0                        1                     0   \n",
       "\n",
       "   coverage_level_Premium  coverage_level_Standard  \n",
       "0                       1                        0  \n",
       "1                       1                        0  \n",
       "2                       1                        0  \n",
       "3                       0                        1  \n",
       "4                       0                        1  \n",
       "\n",
       "[5 rows x 30 columns]"
      ]
     },
     "execution_count": 17,
     "metadata": {},
     "output_type": "execute_result"
    }
   ],
   "source": [
    "#Review the dataframe \n",
    "X.head()"
   ]
  },
  {
   "cell_type": "code",
   "execution_count": 18,
   "metadata": {},
   "outputs": [
    {
     "data": {
      "text/plain": [
       "((800000, 30), (200000, 30), (800000,), (200000,))"
      ]
     },
     "execution_count": 18,
     "metadata": {},
     "output_type": "execute_result"
    }
   ],
   "source": [
    "# Import the train_test_learn module\n",
    "from sklearn.model_selection import train_test_split\n",
    "\n",
    "# Split the data using train_test_split\n",
    "# Assign a random_state of 1 to the function\n",
    "X_train, X_test, y_train, y_test = train_test_split(X, \n",
    "                                                    y, \n",
    "                                                    test_size= 0.2,\n",
    "                                                    random_state=1, \n",
    "                                                    )\n",
    "X_train.shape, X_test.shape, y_train.shape, y_test.shape"
   ]
  },
  {
   "cell_type": "code",
   "execution_count": 19,
   "metadata": {},
   "outputs": [
    {
     "name": "stdout",
     "output_type": "stream",
     "text": [
      "Training Data Score for Linear Regression: 0.9957266917943283\n",
      "Testing Data Score for Linear Regression: 0.9957191270914253\n",
      "Mean Squared Error for Linear Regression for Testing Values: 83546.37958252191\n",
      "Root Mean Squared Error for Linear Regression for Testing Values: 289.0439059771403\n",
      "Mean Squared Error for Linear Regression for Training Values: 83308.53864396818\n",
      "Root Mean Squared Error for Linear Regression for Training Values: 288.63218573812617\n",
      "R2 score for Linear Regression: 0.9957191270914253\n"
     ]
    },
    {
     "data": {
      "text/html": [
       "<div>\n",
       "<style scoped>\n",
       "    .dataframe tbody tr th:only-of-type {\n",
       "        vertical-align: middle;\n",
       "    }\n",
       "\n",
       "    .dataframe tbody tr th {\n",
       "        vertical-align: top;\n",
       "    }\n",
       "\n",
       "    .dataframe thead th {\n",
       "        text-align: right;\n",
       "    }\n",
       "</style>\n",
       "<table border=\"1\" class=\"dataframe\">\n",
       "  <thead>\n",
       "    <tr style=\"text-align: right;\">\n",
       "      <th></th>\n",
       "      <th>Prediction for Linear Regression</th>\n",
       "      <th>Actual for Linear Regression</th>\n",
       "    </tr>\n",
       "  </thead>\n",
       "  <tbody>\n",
       "    <tr>\n",
       "      <th>0</th>\n",
       "      <td>12379.274170</td>\n",
       "      <td>12481.068956</td>\n",
       "    </tr>\n",
       "    <tr>\n",
       "      <th>1</th>\n",
       "      <td>18784.150635</td>\n",
       "      <td>18299.071994</td>\n",
       "    </tr>\n",
       "    <tr>\n",
       "      <th>2</th>\n",
       "      <td>18862.621338</td>\n",
       "      <td>18846.795608</td>\n",
       "    </tr>\n",
       "    <tr>\n",
       "      <th>3</th>\n",
       "      <td>21283.642822</td>\n",
       "      <td>21597.663069</td>\n",
       "    </tr>\n",
       "    <tr>\n",
       "      <th>4</th>\n",
       "      <td>25182.140869</td>\n",
       "      <td>25596.721389</td>\n",
       "    </tr>\n",
       "  </tbody>\n",
       "</table>\n",
       "</div>"
      ],
      "text/plain": [
       "   Prediction for Linear Regression  Actual for Linear Regression\n",
       "0                      12379.274170                  12481.068956\n",
       "1                      18784.150635                  18299.071994\n",
       "2                      18862.621338                  18846.795608\n",
       "3                      21283.642822                  21597.663069\n",
       "4                      25182.140869                  25596.721389"
      ]
     },
     "execution_count": 19,
     "metadata": {},
     "output_type": "execute_result"
    }
   ],
   "source": [
    "# Create a Linear Regression model with scikit-learn\n",
    "model = LinearRegression()\n",
    "# Fit the data into the model\n",
    "model.fit(X_train, y_train)\n",
    "# Make predictions using the X set\n",
    "predicted_y_values = model.predict(X_test)\n",
    "predicted_y_values_train  = model.predict(X_train)\n",
    "\n",
    "print(f\"Training Data Score for Linear Regression: {model.score(X_train, y_train)}\")\n",
    "print(f\"Testing Data Score for Linear Regression: {model.score(X_test, y_test)}\")\n",
    "\n",
    "reg_mse_test = mean_squared_error(y_test, predicted_y_values)\n",
    "reg_rmse_test = mean_squared_error(y_test, predicted_y_values, squared=False)\n",
    "\n",
    "reg_mse_train = mean_squared_error(y_train, predicted_y_values_train)\n",
    "reg_rmse_train = mean_squared_error(y_train, predicted_y_values_train, squared=False)\n",
    "\n",
    "reg_r2_score = r2_score(y_test, predicted_y_values)\n",
    "\n",
    "# Make a prediction using the testing data\n",
    "results_linear = pd.DataFrame({\"Prediction for Linear Regression\": predicted_y_values, \"Actual for Linear Regression\": y_test}).reset_index(drop=True)\n",
    "\n",
    "print(f'Mean Squared Error for Linear Regression for Testing Values: {reg_mse_test}')\n",
    "print(f'Root Mean Squared Error for Linear Regression for Testing Values: {reg_rmse_test}')\n",
    "\n",
    "print(f'Mean Squared Error for Linear Regression for Training Values: {reg_mse_train}')\n",
    "print(f'Root Mean Squared Error for Linear Regression for Training Values: {reg_rmse_train}')\n",
    "\n",
    "print(f'R2 score for Linear Regression: {reg_r2_score}')\n",
    "results_linear.head()\n"
   ]
  },
  {
   "cell_type": "markdown",
   "metadata": {},
   "source": [
    "As seen above,the difference between Root Mean Squared Error and Mean Squared Error for Training and testing values is low ,it can be concluded that the data is very slightly overfitting."
   ]
  },
  {
   "cell_type": "code",
   "execution_count": 20,
   "metadata": {},
   "outputs": [
    {
     "name": "stdout",
     "output_type": "stream",
     "text": [
      "Training Data Score for Decision Tree Regression: 0.999999805257673\n",
      "Testing Data Score for Decision Tree Regression: 0.9867882042653239\n",
      "Mean Squared Error for Decision Tree Regression: 257844.0717558009\n",
      "Root Mean Squared Error for Decision Tree Regression: 507.78348905394796\n",
      "Mean Squared Error for Decision Tree Regression for Training Values: 83308.53864396818\n",
      "Root Mean Squared Error for Decision Tree Regression for Training Values: 288.63218573812617\n",
      "R2 score for Decision Tree Regression: 0.9867882042653239\n"
     ]
    },
    {
     "data": {
      "text/html": [
       "<div>\n",
       "<style scoped>\n",
       "    .dataframe tbody tr th:only-of-type {\n",
       "        vertical-align: middle;\n",
       "    }\n",
       "\n",
       "    .dataframe tbody tr th {\n",
       "        vertical-align: top;\n",
       "    }\n",
       "\n",
       "    .dataframe thead th {\n",
       "        text-align: right;\n",
       "    }\n",
       "</style>\n",
       "<table border=\"1\" class=\"dataframe\">\n",
       "  <thead>\n",
       "    <tr style=\"text-align: right;\">\n",
       "      <th></th>\n",
       "      <th>Prediction for Decision Tree Regression</th>\n",
       "      <th>Actual for Decision Tree Regression</th>\n",
       "    </tr>\n",
       "  </thead>\n",
       "  <tbody>\n",
       "    <tr>\n",
       "      <th>0</th>\n",
       "      <td>12608.414913</td>\n",
       "      <td>12481.068956</td>\n",
       "    </tr>\n",
       "    <tr>\n",
       "      <th>1</th>\n",
       "      <td>19359.470966</td>\n",
       "      <td>18299.071994</td>\n",
       "    </tr>\n",
       "    <tr>\n",
       "      <th>2</th>\n",
       "      <td>19172.322317</td>\n",
       "      <td>18846.795608</td>\n",
       "    </tr>\n",
       "    <tr>\n",
       "      <th>3</th>\n",
       "      <td>21409.863225</td>\n",
       "      <td>21597.663069</td>\n",
       "    </tr>\n",
       "    <tr>\n",
       "      <th>4</th>\n",
       "      <td>25362.394352</td>\n",
       "      <td>25596.721389</td>\n",
       "    </tr>\n",
       "  </tbody>\n",
       "</table>\n",
       "</div>"
      ],
      "text/plain": [
       "   Prediction for Decision Tree Regression  \\\n",
       "0                             12608.414913   \n",
       "1                             19359.470966   \n",
       "2                             19172.322317   \n",
       "3                             21409.863225   \n",
       "4                             25362.394352   \n",
       "\n",
       "   Actual for Decision Tree Regression  \n",
       "0                         12481.068956  \n",
       "1                         18299.071994  \n",
       "2                         18846.795608  \n",
       "3                         21597.663069  \n",
       "4                         25596.721389  "
      ]
     },
     "execution_count": 20,
     "metadata": {},
     "output_type": "execute_result"
    }
   ],
   "source": [
    "# Create a Decision Tree Regression model with scikit-learn\n",
    "model_tree = DecisionTreeRegressor()\n",
    "\n",
    "# Fit the data into the model\n",
    "model_tree.fit(X_train, y_train)\n",
    "# Make predictions using the X set\n",
    "predicted_y_values_tree = model_tree.predict(X_test)\n",
    "predicted_y_values_tree_train  = model.predict(X_train)\n",
    "\n",
    "print(f\"Training Data Score for Decision Tree Regression: {model_tree.score(X_train, y_train)}\")\n",
    "print(f\"Testing Data Score for Decision Tree Regression: {model_tree.score(X_test, y_test)}\")\n",
    "\n",
    "reg_mse_tree = mean_squared_error(y_test, predicted_y_values_tree)\n",
    "reg_rmse_tree = mean_squared_error(y_test, predicted_y_values_tree, squared=False)\n",
    "\n",
    "reg_mse_tree_train = mean_squared_error(y_train, predicted_y_values_tree_train)\n",
    "reg_rmse_tree_train = mean_squared_error(y_train, predicted_y_values_tree_train, squared=False)\n",
    "\n",
    "reg_r2_score_tree = r2_score(y_test, predicted_y_values_tree)\n",
    "\n",
    "# Make a prediction using the testing data\n",
    "results_tree = pd.DataFrame({\"Prediction for Decision Tree Regression\": predicted_y_values_tree, \"Actual for Decision Tree Regression\": y_test}).reset_index(drop=True)\n",
    "\n",
    "print(f'Mean Squared Error for Decision Tree Regression: {reg_mse_tree}')\n",
    "print(f'Root Mean Squared Error for Decision Tree Regression: {reg_rmse_tree}')\n",
    "\n",
    "print(f'Mean Squared Error for Decision Tree Regression for Training Values: {reg_mse_tree_train}')\n",
    "print(f'Root Mean Squared Error for Decision Tree Regression for Training Values: {reg_rmse_tree_train}')\n",
    "\n",
    "print(f'R2 score for Decision Tree Regression: {reg_r2_score_tree}')\n",
    "results_tree.head()\n"
   ]
  },
  {
   "cell_type": "markdown",
   "metadata": {},
   "source": [
    "As seen above,the difference between Root Mean Squared Error and Mean Squared Error for Training and testing values is very high ,it can be concluded that the data is overfitting."
   ]
  },
  {
   "cell_type": "code",
   "execution_count": 21,
   "metadata": {},
   "outputs": [
    {
     "ename": "AttributeError",
     "evalue": "'DataFrame' object has no attribute 'hvplot'",
     "output_type": "error",
     "traceback": [
      "\u001b[0;31m---------------------------------------------------------------------------\u001b[0m",
      "\u001b[0;31mAttributeError\u001b[0m                            Traceback (most recent call last)",
      "Cell \u001b[0;32mIn[21], line 3\u001b[0m\n\u001b[1;32m      1\u001b[0m \u001b[39m# Create a line plot of the predicted vs actual values for Linear Regression\u001b[39;00m\n\u001b[1;32m      2\u001b[0m sampled_df \u001b[39m=\u001b[39m results_linear\u001b[39m.\u001b[39msample(n \u001b[39m=\u001b[39m \u001b[39m200\u001b[39m, random_state \u001b[39m=\u001b[39m \u001b[39m2\u001b[39m)\n\u001b[0;32m----> 3\u001b[0m plot_linear \u001b[39m=\u001b[39m sampled_df\u001b[39m.\u001b[39;49mhvplot\u001b[39m.\u001b[39mline(\n\u001b[1;32m      4\u001b[0m     x \u001b[39m=\u001b[39m \u001b[39m\"\u001b[39m\u001b[39mPrediction for Linear Regression\u001b[39m\u001b[39m\"\u001b[39m,\n\u001b[1;32m      5\u001b[0m     y \u001b[39m=\u001b[39m \u001b[39m\"\u001b[39m\u001b[39mActual for Linear Regression\u001b[39m\u001b[39m\"\u001b[39m\n\u001b[1;32m      6\u001b[0m )\n\u001b[1;32m      7\u001b[0m plot_linear\n",
      "File \u001b[0;32m~/opt/anaconda3/lib/python3.9/site-packages/pandas/core/generic.py:5902\u001b[0m, in \u001b[0;36mNDFrame.__getattr__\u001b[0;34m(self, name)\u001b[0m\n\u001b[1;32m   5895\u001b[0m \u001b[39mif\u001b[39;00m (\n\u001b[1;32m   5896\u001b[0m     name \u001b[39mnot\u001b[39;00m \u001b[39min\u001b[39;00m \u001b[39mself\u001b[39m\u001b[39m.\u001b[39m_internal_names_set\n\u001b[1;32m   5897\u001b[0m     \u001b[39mand\u001b[39;00m name \u001b[39mnot\u001b[39;00m \u001b[39min\u001b[39;00m \u001b[39mself\u001b[39m\u001b[39m.\u001b[39m_metadata\n\u001b[1;32m   5898\u001b[0m     \u001b[39mand\u001b[39;00m name \u001b[39mnot\u001b[39;00m \u001b[39min\u001b[39;00m \u001b[39mself\u001b[39m\u001b[39m.\u001b[39m_accessors\n\u001b[1;32m   5899\u001b[0m     \u001b[39mand\u001b[39;00m \u001b[39mself\u001b[39m\u001b[39m.\u001b[39m_info_axis\u001b[39m.\u001b[39m_can_hold_identifiers_and_holds_name(name)\n\u001b[1;32m   5900\u001b[0m ):\n\u001b[1;32m   5901\u001b[0m     \u001b[39mreturn\u001b[39;00m \u001b[39mself\u001b[39m[name]\n\u001b[0;32m-> 5902\u001b[0m \u001b[39mreturn\u001b[39;00m \u001b[39mobject\u001b[39;49m\u001b[39m.\u001b[39;49m\u001b[39m__getattribute__\u001b[39;49m(\u001b[39mself\u001b[39;49m, name)\n",
      "\u001b[0;31mAttributeError\u001b[0m: 'DataFrame' object has no attribute 'hvplot'"
     ]
    }
   ],
   "source": [
    "# Create a line plot of the predicted vs actual values for Linear Regression\n",
    "sampled_df = results_linear.sample(n = 200, random_state = 2)\n",
    "plot_linear = sampled_df.hvplot.line(\n",
    "    x = \"Prediction for Linear Regression\",\n",
    "    y = \"Actual for Linear Regression\"\n",
    ")\n",
    "plot_linear"
   ]
  },
  {
   "cell_type": "code",
   "execution_count": null,
   "metadata": {},
   "outputs": [
    {
     "data": {},
     "metadata": {},
     "output_type": "display_data"
    },
    {
     "data": {
      "application/vnd.holoviews_exec.v0+json": "",
      "text/html": [
       "<div id='2074'>\n",
       "  <div class=\"bk-root\" id=\"b2010c56-1aa5-439d-ade1-badfce312772\" data-root-id=\"2074\"></div>\n",
       "</div>\n",
       "<script type=\"application/javascript\">(function(root) {\n",
       "  function embed_document(root) {\n",
       "    var docs_json = {\"aba26e12-53f6-4491-b559-a9270caaf425\":{\"defs\":[{\"extends\":null,\"module\":null,\"name\":\"ReactiveHTML1\",\"overrides\":[],\"properties\":[]},{\"extends\":null,\"module\":null,\"name\":\"FlexBox1\",\"overrides\":[],\"properties\":[{\"default\":\"flex-start\",\"kind\":null,\"name\":\"align_content\"},{\"default\":\"flex-start\",\"kind\":null,\"name\":\"align_items\"},{\"default\":\"row\",\"kind\":null,\"name\":\"flex_direction\"},{\"default\":\"wrap\",\"kind\":null,\"name\":\"flex_wrap\"},{\"default\":\"flex-start\",\"kind\":null,\"name\":\"justify_content\"}]},{\"extends\":null,\"module\":null,\"name\":\"GridStack1\",\"overrides\":[],\"properties\":[{\"default\":\"warn\",\"kind\":null,\"name\":\"mode\"},{\"default\":null,\"kind\":null,\"name\":\"ncols\"},{\"default\":null,\"kind\":null,\"name\":\"nrows\"},{\"default\":true,\"kind\":null,\"name\":\"allow_resize\"},{\"default\":true,\"kind\":null,\"name\":\"allow_drag\"},{\"default\":[],\"kind\":null,\"name\":\"state\"}]},{\"extends\":null,\"module\":null,\"name\":\"click1\",\"overrides\":[],\"properties\":[{\"default\":\"\",\"kind\":null,\"name\":\"terminal_output\"},{\"default\":\"\",\"kind\":null,\"name\":\"debug_name\"},{\"default\":0,\"kind\":null,\"name\":\"clears\"}]},{\"extends\":null,\"module\":null,\"name\":\"NotificationAreaBase1\",\"overrides\":[],\"properties\":[{\"default\":\"bottom-right\",\"kind\":null,\"name\":\"position\"},{\"default\":0,\"kind\":null,\"name\":\"_clear\"}]},{\"extends\":null,\"module\":null,\"name\":\"NotificationArea1\",\"overrides\":[],\"properties\":[{\"default\":[],\"kind\":null,\"name\":\"notifications\"},{\"default\":\"bottom-right\",\"kind\":null,\"name\":\"position\"},{\"default\":0,\"kind\":null,\"name\":\"_clear\"},{\"default\":[{\"background\":\"#ffc107\",\"icon\":{\"className\":\"fas fa-exclamation-triangle\",\"color\":\"white\",\"tagName\":\"i\"},\"type\":\"warning\"},{\"background\":\"#007bff\",\"icon\":{\"className\":\"fas fa-info-circle\",\"color\":\"white\",\"tagName\":\"i\"},\"type\":\"info\"}],\"kind\":null,\"name\":\"types\"}]},{\"extends\":null,\"module\":null,\"name\":\"Notification\",\"overrides\":[],\"properties\":[{\"default\":null,\"kind\":null,\"name\":\"background\"},{\"default\":3000,\"kind\":null,\"name\":\"duration\"},{\"default\":null,\"kind\":null,\"name\":\"icon\"},{\"default\":\"\",\"kind\":null,\"name\":\"message\"},{\"default\":null,\"kind\":null,\"name\":\"notification_type\"},{\"default\":false,\"kind\":null,\"name\":\"_destroyed\"}]},{\"extends\":null,\"module\":null,\"name\":\"TemplateActions1\",\"overrides\":[],\"properties\":[{\"default\":0,\"kind\":null,\"name\":\"open_modal\"},{\"default\":0,\"kind\":null,\"name\":\"close_modal\"}]},{\"extends\":null,\"module\":null,\"name\":\"MaterialTemplateActions1\",\"overrides\":[],\"properties\":[{\"default\":0,\"kind\":null,\"name\":\"open_modal\"},{\"default\":0,\"kind\":null,\"name\":\"close_modal\"}]}],\"roots\":{\"references\":[{\"attributes\":{},\"id\":\"2119\",\"type\":\"AllLabels\"},{\"attributes\":{\"overlay\":{\"id\":\"2100\"}},\"id\":\"2098\",\"type\":\"BoxZoomTool\"},{\"attributes\":{},\"id\":\"2099\",\"type\":\"ResetTool\"},{\"attributes\":{},\"id\":\"2122\",\"type\":\"AllLabels\"},{\"attributes\":{\"bottom_units\":\"screen\",\"coordinates\":null,\"fill_alpha\":0.5,\"fill_color\":\"lightgrey\",\"group\":null,\"left_units\":\"screen\",\"level\":\"overlay\",\"line_alpha\":1.0,\"line_color\":\"black\",\"line_dash\":[4,4],\"line_width\":2,\"right_units\":\"screen\",\"syncable\":false,\"top_units\":\"screen\"},\"id\":\"2100\",\"type\":\"BoxAnnotation\"},{\"attributes\":{\"active_drag\":{\"id\":\"2096\"},\"active_scroll\":{\"id\":\"2097\"},\"tools\":[{\"id\":\"2077\"},{\"id\":\"2095\"},{\"id\":\"2096\"},{\"id\":\"2097\"},{\"id\":\"2098\"},{\"id\":\"2099\"}]},\"id\":\"2101\",\"type\":\"Toolbar\"},{\"attributes\":{\"reset_end\":1.0,\"reset_start\":0.0,\"tags\":[[[\"Prediction for Decision Tree Regression\",\"Prediction for Decision Tree Regression\",null]]]},\"id\":\"2075\",\"type\":\"Range1d\"},{\"attributes\":{},\"id\":\"2109\",\"type\":\"Selection\"},{\"attributes\":{\"source\":{\"id\":\"2108\"}},\"id\":\"2115\",\"type\":\"CDSView\"},{\"attributes\":{\"line_color\":\"#30a2da\",\"line_width\":2,\"x\":{\"field\":\"Prediction for Decision Tree Regression\"},\"y\":{\"field\":\"Actual for Decision Tree Regression\"}},\"id\":\"2116\",\"type\":\"Line\"},{\"attributes\":{\"coordinates\":null,\"data_source\":{\"id\":\"2108\"},\"glyph\":{\"id\":\"2111\"},\"group\":null,\"hover_glyph\":null,\"muted_glyph\":{\"id\":\"2113\"},\"nonselection_glyph\":{\"id\":\"2112\"},\"selection_glyph\":{\"id\":\"2116\"},\"view\":{\"id\":\"2115\"}},\"id\":\"2114\",\"type\":\"GlyphRenderer\"},{\"attributes\":{\"children\":[{\"id\":\"2078\"}],\"height\":300,\"margin\":[0,0,0,0],\"name\":\"Row01702\",\"sizing_mode\":\"fixed\",\"tags\":[\"embedded\"],\"width\":700},\"id\":\"2074\",\"type\":\"Row\"},{\"attributes\":{},\"id\":\"2083\",\"type\":\"LinearScale\"},{\"attributes\":{\"below\":[{\"id\":\"2087\"}],\"center\":[{\"id\":\"2090\"},{\"id\":\"2094\"}],\"height\":300,\"left\":[{\"id\":\"2091\"}],\"margin\":[5,5,5,5],\"min_border_bottom\":10,\"min_border_left\":10,\"min_border_right\":10,\"min_border_top\":10,\"renderers\":[{\"id\":\"2114\"}],\"sizing_mode\":\"fixed\",\"title\":{\"id\":\"2079\"},\"toolbar\":{\"id\":\"2101\"},\"width\":700,\"x_range\":{\"id\":\"2075\"},\"x_scale\":{\"id\":\"2083\"},\"y_range\":{\"id\":\"2076\"},\"y_scale\":{\"id\":\"2085\"}},\"id\":\"2078\",\"subtype\":\"Figure\",\"type\":\"Plot\"},{\"attributes\":{\"end\":1.1,\"reset_end\":1.1,\"reset_start\":-0.1,\"start\":-0.1,\"tags\":[[[\"Actual for Decision Tree Regression\",\"Actual for Decision Tree Regression\",null]]]},\"id\":\"2076\",\"type\":\"Range1d\"},{\"attributes\":{\"callback\":null,\"renderers\":[{\"id\":\"2114\"}],\"tags\":[\"hv_created\"],\"tooltips\":[[\"Prediction for Decision Tree Regression\",\"@{Prediction_for_Decision_Tree_Regression}\"],[\"Actual for Decision Tree Regression\",\"@{Actual_for_Decision_Tree_Regression}\"]]},\"id\":\"2077\",\"type\":\"HoverTool\"},{\"attributes\":{},\"id\":\"2085\",\"type\":\"LinearScale\"},{\"attributes\":{},\"id\":\"2088\",\"type\":\"BasicTicker\"},{\"attributes\":{\"coordinates\":null,\"group\":null,\"text_color\":\"black\",\"text_font_size\":\"12pt\"},\"id\":\"2079\",\"type\":\"Title\"},{\"attributes\":{\"axis\":{\"id\":\"2087\"},\"coordinates\":null,\"grid_line_color\":null,\"group\":null,\"ticker\":null},\"id\":\"2090\",\"type\":\"Grid\"},{\"attributes\":{\"axis_label\":\"Prediction for Decision Tree Regression\",\"coordinates\":null,\"formatter\":{\"id\":\"2118\"},\"group\":null,\"major_label_policy\":{\"id\":\"2119\"},\"ticker\":{\"id\":\"2088\"}},\"id\":\"2087\",\"type\":\"LinearAxis\"},{\"attributes\":{\"line_alpha\":0.1,\"line_color\":\"#30a2da\",\"line_width\":2,\"x\":{\"field\":\"Prediction for Decision Tree Regression\"},\"y\":{\"field\":\"Actual for Decision Tree Regression\"}},\"id\":\"2112\",\"type\":\"Line\"},{\"attributes\":{\"line_color\":\"#30a2da\",\"line_width\":2,\"x\":{\"field\":\"Prediction for Decision Tree Regression\"},\"y\":{\"field\":\"Actual for Decision Tree Regression\"}},\"id\":\"2111\",\"type\":\"Line\"},{\"attributes\":{},\"id\":\"2096\",\"type\":\"PanTool\"},{\"attributes\":{},\"id\":\"2134\",\"type\":\"UnionRenderers\"},{\"attributes\":{\"axis_label\":\"Actual for Decision Tree Regression\",\"coordinates\":null,\"formatter\":{\"id\":\"2121\"},\"group\":null,\"major_label_policy\":{\"id\":\"2122\"},\"ticker\":{\"id\":\"2092\"}},\"id\":\"2091\",\"type\":\"LinearAxis\"},{\"attributes\":{\"axis\":{\"id\":\"2091\"},\"coordinates\":null,\"dimension\":1,\"grid_line_color\":null,\"group\":null,\"ticker\":null},\"id\":\"2094\",\"type\":\"Grid\"},{\"attributes\":{\"line_alpha\":0.2,\"line_color\":\"#30a2da\",\"line_width\":2,\"x\":{\"field\":\"Prediction for Decision Tree Regression\"},\"y\":{\"field\":\"Actual for Decision Tree Regression\"}},\"id\":\"2113\",\"type\":\"Line\"},{\"attributes\":{},\"id\":\"2092\",\"type\":\"BasicTicker\"},{\"attributes\":{},\"id\":\"2121\",\"type\":\"BasicTickFormatter\"},{\"attributes\":{},\"id\":\"2118\",\"type\":\"BasicTickFormatter\"},{\"attributes\":{},\"id\":\"2097\",\"type\":\"WheelZoomTool\"},{\"attributes\":{\"data\":{\"Actual for Decision Tree Regression\":{\"__ndarray__\":\"AAEAAAAAAAAAAQABAAAAAAABAAEAAAABAQAAAAEBAAAAAAABAAABAQAAAAAAAAAAAAAAAAAAAQAAAQAAAAEAAQEAAQABAAABAAAAAQEAAAAAAAAAAAAAAQAAAAAAAQAAAQAAAAAAAAAAAAEAAAEBAAAAAAABAAABAAAAAAAAAQAAAAABAQEAAAEBAQEAAAAAAAAAAAEAAAAAAAAAAAAAAQAAAAAAAAEBAQEAAAABAQEAAAAAAQEAAAEBAQEAAAAAAAEAAAAAAAA=\",\"dtype\":\"uint8\",\"order\":\"little\",\"shape\":[200]},\"Actual_for_Decision_Tree_Regression\":{\"__ndarray__\":\"AAEAAAAAAAAAAQABAAAAAAABAAEAAAABAQAAAAEBAAAAAAABAAABAQAAAAAAAAAAAAAAAAAAAQAAAQAAAAEAAQEAAQABAAABAAAAAQEAAAAAAAAAAAAAAQAAAAAAAQAAAQAAAAAAAAAAAAEAAAEBAAAAAAABAAABAAAAAAAAAQAAAAABAQEAAAEBAQEAAAAAAAAAAAEAAAAAAAAAAAAAAQAAAAAAAAEBAQEAAAABAQEAAAAAAQEAAAEBAQEAAAAAAAEAAAAAAAA=\",\"dtype\":\"uint8\",\"order\":\"little\",\"shape\":[200]},\"Prediction for Decision Tree Regression\":{\"__ndarray__\":\"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\",\"dtype\":\"float64\",\"order\":\"little\",\"shape\":[200]},\"Prediction_for_Decision_Tree_Regression\":{\"__ndarray__\":\"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\",\"dtype\":\"float64\",\"order\":\"little\",\"shape\":[200]}},\"selected\":{\"id\":\"2109\"},\"selection_policy\":{\"id\":\"2134\"}},\"id\":\"2108\",\"type\":\"ColumnDataSource\"},{\"attributes\":{},\"id\":\"2095\",\"type\":\"SaveTool\"}],\"root_ids\":[\"2074\"]},\"title\":\"Bokeh Application\",\"version\":\"2.4.3\"}};\n",
       "    var render_items = [{\"docid\":\"aba26e12-53f6-4491-b559-a9270caaf425\",\"root_ids\":[\"2074\"],\"roots\":{\"2074\":\"b2010c56-1aa5-439d-ade1-badfce312772\"}}];\n",
       "    root.Bokeh.embed.embed_items_notebook(docs_json, render_items);\n",
       "    for (const render_item of render_items) {\n",
       "      for (const root_id of render_item.root_ids) {\n",
       "\tconst id_el = document.getElementById(root_id)\n",
       "\tif (id_el.children.length && (id_el.children[0].className === 'bk-root')) {\n",
       "\t  const root_el = id_el.children[0]\n",
       "\t  root_el.id = root_el.id + '-rendered'\n",
       "\t}\n",
       "      }\n",
       "    }\n",
       "  }\n",
       "  if (root.Bokeh !== undefined && root.Bokeh.Panel !== undefined) {\n",
       "    embed_document(root);\n",
       "  } else {\n",
       "    var attempts = 0;\n",
       "    var timer = setInterval(function(root) {\n",
       "      if (root.Bokeh !== undefined && root.Bokeh.Panel !== undefined) {\n",
       "        clearInterval(timer);\n",
       "        embed_document(root);\n",
       "      } else if (document.readyState == \"complete\") {\n",
       "        attempts++;\n",
       "        if (attempts > 200) {\n",
       "          clearInterval(timer);\n",
       "          console.log(\"Bokeh: ERROR: Unable to run BokehJS code because BokehJS library is missing\");\n",
       "        }\n",
       "      }\n",
       "    }, 25, root)\n",
       "  }\n",
       "})(window);</script>"
      ],
      "text/plain": [
       ":Curve   [Prediction for Decision Tree Regression]   (Actual for Decision Tree Regression)"
      ]
     },
     "execution_count": 88,
     "metadata": {
      "application/vnd.holoviews_exec.v0+json": {
       "id": "2074"
      }
     },
     "output_type": "execute_result"
    }
   ],
   "source": [
    "# Create a line plot of the predicted vs actual values for Decision Tree Regression\n",
    "sampled_df1 = results_tree.sample(n = 200, random_state = 2)\n",
    "plot_tree = sampled_df1.hvplot.line(\n",
    "    x = \"Prediction for Decision Tree Regression\",\n",
    "    y = \"Actual for Decision Tree Regression\"\n",
    ")\n",
    "plot_tree"
   ]
  },
  {
   "cell_type": "code",
   "execution_count": null,
   "metadata": {},
   "outputs": [
    {
     "data": {},
     "metadata": {},
     "output_type": "display_data"
    },
    {
     "data": {
      "application/vnd.holoviews_exec.v0+json": "",
      "text/html": [
       "<div id='2188'>\n",
       "  <div class=\"bk-root\" id=\"043bcef3-7f73-4be9-8b24-3560158cc680\" data-root-id=\"2188\"></div>\n",
       "</div>\n",
       "<script type=\"application/javascript\">(function(root) {\n",
       "  function embed_document(root) {\n",
       "    var docs_json = {\"df3d8faa-9a04-4460-ae94-1f9e86470681\":{\"defs\":[{\"extends\":null,\"module\":null,\"name\":\"ReactiveHTML1\",\"overrides\":[],\"properties\":[]},{\"extends\":null,\"module\":null,\"name\":\"FlexBox1\",\"overrides\":[],\"properties\":[{\"default\":\"flex-start\",\"kind\":null,\"name\":\"align_content\"},{\"default\":\"flex-start\",\"kind\":null,\"name\":\"align_items\"},{\"default\":\"row\",\"kind\":null,\"name\":\"flex_direction\"},{\"default\":\"wrap\",\"kind\":null,\"name\":\"flex_wrap\"},{\"default\":\"flex-start\",\"kind\":null,\"name\":\"justify_content\"}]},{\"extends\":null,\"module\":null,\"name\":\"GridStack1\",\"overrides\":[],\"properties\":[{\"default\":\"warn\",\"kind\":null,\"name\":\"mode\"},{\"default\":null,\"kind\":null,\"name\":\"ncols\"},{\"default\":null,\"kind\":null,\"name\":\"nrows\"},{\"default\":true,\"kind\":null,\"name\":\"allow_resize\"},{\"default\":true,\"kind\":null,\"name\":\"allow_drag\"},{\"default\":[],\"kind\":null,\"name\":\"state\"}]},{\"extends\":null,\"module\":null,\"name\":\"click1\",\"overrides\":[],\"properties\":[{\"default\":\"\",\"kind\":null,\"name\":\"terminal_output\"},{\"default\":\"\",\"kind\":null,\"name\":\"debug_name\"},{\"default\":0,\"kind\":null,\"name\":\"clears\"}]},{\"extends\":null,\"module\":null,\"name\":\"NotificationAreaBase1\",\"overrides\":[],\"properties\":[{\"default\":\"bottom-right\",\"kind\":null,\"name\":\"position\"},{\"default\":0,\"kind\":null,\"name\":\"_clear\"}]},{\"extends\":null,\"module\":null,\"name\":\"NotificationArea1\",\"overrides\":[],\"properties\":[{\"default\":[],\"kind\":null,\"name\":\"notifications\"},{\"default\":\"bottom-right\",\"kind\":null,\"name\":\"position\"},{\"default\":0,\"kind\":null,\"name\":\"_clear\"},{\"default\":[{\"background\":\"#ffc107\",\"icon\":{\"className\":\"fas fa-exclamation-triangle\",\"color\":\"white\",\"tagName\":\"i\"},\"type\":\"warning\"},{\"background\":\"#007bff\",\"icon\":{\"className\":\"fas fa-info-circle\",\"color\":\"white\",\"tagName\":\"i\"},\"type\":\"info\"}],\"kind\":null,\"name\":\"types\"}]},{\"extends\":null,\"module\":null,\"name\":\"Notification\",\"overrides\":[],\"properties\":[{\"default\":null,\"kind\":null,\"name\":\"background\"},{\"default\":3000,\"kind\":null,\"name\":\"duration\"},{\"default\":null,\"kind\":null,\"name\":\"icon\"},{\"default\":\"\",\"kind\":null,\"name\":\"message\"},{\"default\":null,\"kind\":null,\"name\":\"notification_type\"},{\"default\":false,\"kind\":null,\"name\":\"_destroyed\"}]},{\"extends\":null,\"module\":null,\"name\":\"TemplateActions1\",\"overrides\":[],\"properties\":[{\"default\":0,\"kind\":null,\"name\":\"open_modal\"},{\"default\":0,\"kind\":null,\"name\":\"close_modal\"}]},{\"extends\":null,\"module\":null,\"name\":\"MaterialTemplateActions1\",\"overrides\":[],\"properties\":[{\"default\":0,\"kind\":null,\"name\":\"open_modal\"},{\"default\":0,\"kind\":null,\"name\":\"close_modal\"}]}],\"roots\":{\"references\":[{\"attributes\":{},\"id\":\"2240\",\"type\":\"Selection\"},{\"attributes\":{\"line_color\":\"#30a2da\",\"line_width\":2,\"x\":{\"field\":\"Prediction for Decision Tree Regression\"},\"y\":{\"field\":\"Actual for Decision Tree Regression\"}},\"id\":\"2233\",\"type\":\"Line\"},{\"attributes\":{},\"id\":\"2225\",\"type\":\"BasicTickFormatter\"},{\"attributes\":{\"reset_end\":1.0,\"reset_start\":-0.07707151175075422,\"start\":-0.07707151175075422,\"tags\":[[[\"Prediction for Decision Tree Regression\",\"Prediction for Decision Tree Regression\",null]]]},\"id\":\"2189\",\"type\":\"Range1d\"},{\"attributes\":{\"line_color\":\"#fc4f30\",\"line_width\":2,\"x\":{\"field\":\"Prediction for Linear Regression\"},\"y\":{\"field\":\"Actual for Linear Regression\"}},\"id\":\"2242\",\"type\":\"Line\"},{\"attributes\":{\"end\":1.1,\"reset_end\":1.1,\"reset_start\":-0.1,\"start\":-0.1,\"tags\":[[[\"Actual for Decision Tree Regression\",\"Actual for Decision Tree Regression\",null]]]},\"id\":\"2190\",\"type\":\"Range1d\"},{\"attributes\":{},\"id\":\"2228\",\"type\":\"BasicTickFormatter\"},{\"attributes\":{\"source\":{\"id\":\"2239\"}},\"id\":\"2246\",\"type\":\"CDSView\"},{\"attributes\":{\"callback\":null,\"renderers\":[{\"id\":\"2236\"}],\"tags\":[\"hv_created\"],\"tooltips\":[[\"Prediction for Decision Tree Regression\",\"@{Prediction_for_Decision_Tree_Regression}\"],[\"Actual for Decision Tree Regression\",\"@{Actual_for_Decision_Tree_Regression}\"]]},\"id\":\"2191\",\"type\":\"HoverTool\"},{\"attributes\":{\"below\":[{\"id\":\"2202\"}],\"center\":[{\"id\":\"2205\"},{\"id\":\"2209\"}],\"height\":300,\"left\":[{\"id\":\"2206\"}],\"margin\":[5,5,5,5],\"min_border_bottom\":10,\"min_border_left\":10,\"min_border_right\":10,\"min_border_top\":10,\"renderers\":[{\"id\":\"2236\"},{\"id\":\"2245\"}],\"sizing_mode\":\"fixed\",\"title\":{\"id\":\"2194\"},\"toolbar\":{\"id\":\"2216\"},\"width\":700,\"x_range\":{\"id\":\"2189\"},\"x_scale\":{\"id\":\"2198\"},\"y_range\":{\"id\":\"2190\"},\"y_scale\":{\"id\":\"2200\"}},\"id\":\"2193\",\"subtype\":\"Figure\",\"type\":\"Plot\"},{\"attributes\":{},\"id\":\"2198\",\"type\":\"LinearScale\"},{\"attributes\":{},\"id\":\"2229\",\"type\":\"AllLabels\"},{\"attributes\":{\"coordinates\":null,\"group\":null,\"text_color\":\"black\",\"text_font_size\":\"12pt\"},\"id\":\"2194\",\"type\":\"Title\"},{\"attributes\":{},\"id\":\"2203\",\"type\":\"BasicTicker\"},{\"attributes\":{\"data\":{\"Actual for Linear Regression\":{\"__ndarray__\":\"AAEAAAAAAAAAAQABAAAAAAABAAEAAAABAQAAAAEBAAAAAAABAAABAQAAAAAAAAAAAAAAAAAAAQAAAQAAAAEAAQEAAQABAAABAAAAAQEAAAAAAAAAAAAAAQAAAAAAAQAAAQAAAAAAAAAAAAEAAAEBAAAAAAABAAABAAAAAAAAAQAAAAABAQEAAAEBAQEAAAAAAAAAAAEAAAAAAAAAAAAAAQAAAAAAAAEBAQEAAAABAQEAAAAAAQEAAAEBAQEAAAAAAAEAAAAAAAA=\",\"dtype\":\"uint8\",\"order\":\"little\",\"shape\":[200]},\"Actual_for_Linear_Regression\":{\"__ndarray__\":\"AAEAAAAAAAAAAQABAAAAAAABAAEAAAABAQAAAAEBAAAAAAABAAABAQAAAAAAAAAAAAAAAAAAAQAAAQAAAAEAAQEAAQABAAABAAAAAQEAAAAAAAAAAAAAAQAAAAAAAQAAAQAAAAAAAAAAAAEAAAEBAAAAAAABAAABAAAAAAAAAQAAAAABAQEAAAEBAQEAAAAAAAAAAAEAAAAAAAAAAAAAAQAAAAAAAAEBAQEAAAABAQEAAAAAAQEAAAEBAQEAAAAAAAEAAAAAAAA=\",\"dtype\":\"uint8\",\"order\":\"little\",\"shape\":[200]},\"Prediction for Linear Regression\":{\"__ndarray__\":\"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\",\"dtype\":\"float64\",\"order\":\"little\",\"shape\":[200]},\"Prediction_for_Linear_Regression\":{\"__ndarray__\":\"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\",\"dtype\":\"float64\",\"order\":\"little\",\"shape\":[200]}},\"selected\":{\"id\":\"2240\"},\"selection_policy\":{\"id\":\"2261\"}},\"id\":\"2239\",\"type\":\"ColumnDataSource\"},{\"attributes\":{\"line_alpha\":0.1,\"line_color\":\"#30a2da\",\"line_width\":2,\"x\":{\"field\":\"Prediction for Decision Tree Regression\"},\"y\":{\"field\":\"Actual for Decision Tree Regression\"}},\"id\":\"2234\",\"type\":\"Line\"},{\"attributes\":{\"line_alpha\":0.2,\"line_color\":\"#30a2da\",\"line_width\":2,\"x\":{\"field\":\"Prediction for Decision Tree Regression\"},\"y\":{\"field\":\"Actual for Decision Tree Regression\"}},\"id\":\"2235\",\"type\":\"Line\"},{\"attributes\":{},\"id\":\"2226\",\"type\":\"AllLabels\"},{\"attributes\":{\"source\":{\"id\":\"2230\"}},\"id\":\"2237\",\"type\":\"CDSView\"},{\"attributes\":{\"axis_label\":\"Prediction for Decision Tree Regression\",\"coordinates\":null,\"formatter\":{\"id\":\"2225\"},\"group\":null,\"major_label_policy\":{\"id\":\"2226\"},\"ticker\":{\"id\":\"2203\"}},\"id\":\"2202\",\"type\":\"LinearAxis\"},{\"attributes\":{\"active_drag\":{\"id\":\"2211\"},\"active_scroll\":{\"id\":\"2212\"},\"tools\":[{\"id\":\"2191\"},{\"id\":\"2192\"},{\"id\":\"2210\"},{\"id\":\"2211\"},{\"id\":\"2212\"},{\"id\":\"2213\"},{\"id\":\"2214\"}]},\"id\":\"2216\",\"type\":\"Toolbar\"},{\"attributes\":{},\"id\":\"2200\",\"type\":\"LinearScale\"},{\"attributes\":{\"coordinates\":null,\"data_source\":{\"id\":\"2230\"},\"glyph\":{\"id\":\"2233\"},\"group\":null,\"hover_glyph\":null,\"muted_glyph\":{\"id\":\"2235\"},\"nonselection_glyph\":{\"id\":\"2234\"},\"selection_glyph\":{\"id\":\"2238\"},\"view\":{\"id\":\"2237\"}},\"id\":\"2236\",\"type\":\"GlyphRenderer\"},{\"attributes\":{},\"id\":\"2211\",\"type\":\"PanTool\"},{\"attributes\":{\"line_color\":\"#30a2da\",\"line_width\":2,\"x\":{\"field\":\"Prediction for Decision Tree Regression\"},\"y\":{\"field\":\"Actual for Decision Tree Regression\"}},\"id\":\"2238\",\"type\":\"Line\"},{\"attributes\":{\"data\":{\"Actual for Decision Tree Regression\":{\"__ndarray__\":\"AAEAAAAAAAAAAQABAAAAAAABAAEAAAABAQAAAAEBAAAAAAABAAABAQAAAAAAAAAAAAAAAAAAAQAAAQAAAAEAAQEAAQABAAABAAAAAQEAAAAAAAAAAAAAAQAAAAAAAQAAAQAAAAAAAAAAAAEAAAEBAAAAAAABAAABAAAAAAAAAQAAAAABAQEAAAEBAQEAAAAAAAAAAAEAAAAAAAAAAAAAAQAAAAAAAAEBAQEAAAABAQEAAAAAAQEAAAEBAQEAAAAAAAEAAAAAAAA=\",\"dtype\":\"uint8\",\"order\":\"little\",\"shape\":[200]},\"Actual_for_Decision_Tree_Regression\":{\"__ndarray__\":\"AAEAAAAAAAAAAQABAAAAAAABAAEAAAABAQAAAAEBAAAAAAABAAABAQAAAAAAAAAAAAAAAAAAAQAAAQAAAAEAAQEAAQABAAABAAAAAQEAAAAAAAAAAAAAAQAAAAAAAQAAAQAAAAAAAAAAAAEAAAEBAAAAAAABAAABAAAAAAAAAQAAAAABAQEAAAEBAQEAAAAAAAAAAAEAAAAAAAAAAAAAAQAAAAAAAAEBAQEAAAABAQEAAAAAAQEAAAEBAQEAAAAAAAEAAAAAAAA=\",\"dtype\":\"uint8\",\"order\":\"little\",\"shape\":[200]},\"Prediction for Decision Tree Regression\":{\"__ndarray__\":\"AAAAAAAAAAAAAAAAAADwPwAAAAAAAAAAAAAAAAAAAAAAAAAAAADwPwAAAAAAAAAAAAAAAAAAAAAAAAAAAAAAAAAAAAAAAAAAAAAAAAAAAAAAAAAAAAAAAAAAAAAAAPA/AAAAAAAAAAAAAAAAAAAAAAAAAAAAAAAAAAAAAAAAAAAAAAAAAAAAAAAAAAAAAAAAAAAAAAAAAAAAAAAAAAAAAAAAAAAAAPA/AAAAAAAAAAAAAAAAAAAAAAAAAAAAAAAAAAAAAAAAAAAAAAAAAAAAAAAAAAAAAAAAAAAAAAAAAAAAAAAAAAAAAAAAAAAAAPA/AAAAAAAAAAAAAAAAAAAAAAAAAAAAAAAAAAAAAAAAAAAAAAAAAAAAAAAAAAAAAPA/AAAAAAAAAAAAAAAAAAAAAAAAAAAAAPA/AAAAAAAA8D8AAAAAAAAAAAAAAAAAAAAAAAAAAAAAAAAAAAAAAAAAAAAAAAAAAAAAAAAAAAAAAAAAAAAAAAAAAAAAAAAAAPA/AAAAAAAAAAAAAAAAAAAAAAAAAAAAAPA/AAAAAAAAAAAAAAAAAAAAAAAAAAAAAPA/AAAAAAAAAAAAAAAAAAAAAAAAAAAAAAAAAAAAAAAAAAAAAAAAAAAAAAAAAAAAAAAAAAAAAAAAAAAAAAAAAADwPwAAAAAAAAAAAAAAAAAA8D8AAAAAAADwPwAAAAAAAAAAAAAAAAAA8D8AAAAAAAAAAAAAAAAAAPA/AAAAAAAA8D8AAAAAAADwPwAAAAAAAAAAAAAAAAAAAAAAAAAAAAAAAAAAAAAAAPA/AAAAAAAA8D8AAAAAAAAAAAAAAAAAAPA/AAAAAAAAAAAAAAAAAAAAAAAAAAAAAAAAAAAAAAAA8D8AAAAAAAAAAAAAAAAAAAAAAAAAAAAA8D8AAAAAAAAAAAAAAAAAAAAAAAAAAAAAAAAAAAAAAAAAAAAAAAAAAAAAAAAAAAAAAAAAAAAAAADwPwAAAAAAAPA/AAAAAAAAAAAAAAAAAAAAAAAAAAAAAPA/AAAAAAAAAAAAAAAAAAAAAAAAAAAAAAAAAAAAAAAAAAAAAAAAAAAAAAAAAAAAAAAAAAAAAAAAAAAAAAAAAAAAAAAAAAAAAAAAAAAAAAAAAAAAAAAAAAAAAAAAAAAAAAAAAAAAAAAA8D8AAAAAAADwPwAAAAAAAAAAAAAAAAAAAAAAAAAAAAAAAAAAAAAAAAAAAAAAAAAAAAAAAAAAAAAAAAAAAAAAAPA/AAAAAAAAAAAAAAAAAAAAAAAAAAAAAPA/AAAAAAAAAAAAAAAAAAAAAAAAAAAAAAAAAAAAAAAAAAAAAAAAAAAAAAAAAAAAAAAAAAAAAAAA8D8AAAAAAAAAAAAAAAAAAAAAAAAAAAAAAAAAAAAAAAAAAAAAAAAAAPA/AAAAAAAAAAAAAAAAAAAAAAAAAAAAAAAAAAAAAAAAAAAAAAAAAAAAAAAAAAAAAAAAAAAAAAAAAAAAAAAAAADwPwAAAAAAAAAAAAAAAAAA8D8AAAAAAAAAAAAAAAAAAAAAAAAAAAAAAAAAAAAAAAAAAAAAAAAAAAAAAAAAAAAAAAAAAAAAAAAAAAAAAAAAAAAAAAAAAAAAAAAAAAAAAAAAAAAAAAAAAAAAAAAAAAAA8D8AAAAAAADwPwAAAAAAAAAAAAAAAAAAAAAAAAAAAAAAAAAAAAAAAAAAAAAAAAAAAAAAAAAAAAAAAAAAAAAAAAAAAAAAAAAAAAAAAAAAAADwPwAAAAAAAPA/AAAAAAAAAAAAAAAAAADwPwAAAAAAAPA/AAAAAAAA8D8AAAAAAAAAAAAAAAAAAAAAAAAAAAAAAAAAAAAAAADwPwAAAAAAAAAAAAAAAAAAAAAAAAAAAADwPwAAAAAAAAAAAAAAAAAAAAAAAAAAAAAAAAAAAAAAAAAAAAAAAAAA8D8AAAAAAADwPwAAAAAAAAAAAAAAAAAAAAAAAAAAAADwPwAAAAAAAPA/AAAAAAAA8D8AAAAAAAAAAAAAAAAAAAAAAAAAAAAAAAAAAAAAAAAAAAAAAAAAAAAAAAAAAAAAAAAAAAAAAADwPwAAAAAAAAAAAAAAAAAAAAAAAAAAAAAAAAAAAAAAAAAAAAAAAAAAAAAAAAAAAADwPw==\",\"dtype\":\"float64\",\"order\":\"little\",\"shape\":[200]},\"Prediction_for_Decision_Tree_Regression\":{\"__ndarray__\":\"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\",\"dtype\":\"float64\",\"order\":\"little\",\"shape\":[200]}},\"selected\":{\"id\":\"2231\"},\"selection_policy\":{\"id\":\"2259\"}},\"id\":\"2230\",\"type\":\"ColumnDataSource\"},{\"attributes\":{\"axis\":{\"id\":\"2202\"},\"coordinates\":null,\"grid_line_color\":null,\"group\":null,\"ticker\":null},\"id\":\"2205\",\"type\":\"Grid\"},{\"attributes\":{\"axis_label\":\"Actual for Decision Tree Regression\",\"coordinates\":null,\"formatter\":{\"id\":\"2228\"},\"group\":null,\"major_label_policy\":{\"id\":\"2229\"},\"ticker\":{\"id\":\"2207\"}},\"id\":\"2206\",\"type\":\"LinearAxis\"},{\"attributes\":{},\"id\":\"2259\",\"type\":\"UnionRenderers\"},{\"attributes\":{},\"id\":\"2231\",\"type\":\"Selection\"},{\"attributes\":{\"axis\":{\"id\":\"2206\"},\"coordinates\":null,\"dimension\":1,\"grid_line_color\":null,\"group\":null,\"ticker\":null},\"id\":\"2209\",\"type\":\"Grid\"},{\"attributes\":{},\"id\":\"2207\",\"type\":\"BasicTicker\"},{\"attributes\":{},\"id\":\"2212\",\"type\":\"WheelZoomTool\"},{\"attributes\":{\"callback\":null,\"renderers\":[{\"id\":\"2245\"}],\"tags\":[\"hv_created\"],\"tooltips\":[[\"Prediction for Linear Regression\",\"@{Prediction_for_Linear_Regression}\"],[\"Actual for Linear Regression\",\"@{Actual_for_Linear_Regression}\"]]},\"id\":\"2192\",\"type\":\"HoverTool\"},{\"attributes\":{},\"id\":\"2210\",\"type\":\"SaveTool\"},{\"attributes\":{\"line_alpha\":0.1,\"line_color\":\"#fc4f30\",\"line_width\":2,\"x\":{\"field\":\"Prediction for Linear Regression\"},\"y\":{\"field\":\"Actual for Linear Regression\"}},\"id\":\"2243\",\"type\":\"Line\"},{\"attributes\":{\"line_alpha\":0.2,\"line_color\":\"#fc4f30\",\"line_width\":2,\"x\":{\"field\":\"Prediction for Linear Regression\"},\"y\":{\"field\":\"Actual for Linear Regression\"}},\"id\":\"2244\",\"type\":\"Line\"},{\"attributes\":{\"overlay\":{\"id\":\"2215\"}},\"id\":\"2213\",\"type\":\"BoxZoomTool\"},{\"attributes\":{},\"id\":\"2214\",\"type\":\"ResetTool\"},{\"attributes\":{\"coordinates\":null,\"data_source\":{\"id\":\"2239\"},\"glyph\":{\"id\":\"2242\"},\"group\":null,\"hover_glyph\":null,\"muted_glyph\":{\"id\":\"2244\"},\"nonselection_glyph\":{\"id\":\"2243\"},\"selection_glyph\":{\"id\":\"2247\"},\"view\":{\"id\":\"2246\"}},\"id\":\"2245\",\"type\":\"GlyphRenderer\"},{\"attributes\":{},\"id\":\"2261\",\"type\":\"UnionRenderers\"},{\"attributes\":{\"children\":[{\"id\":\"2193\"}],\"height\":300,\"margin\":[0,0,0,0],\"name\":\"Row01730\",\"sizing_mode\":\"fixed\",\"tags\":[\"embedded\"],\"width\":700},\"id\":\"2188\",\"type\":\"Row\"},{\"attributes\":{\"line_color\":\"#fc4f30\",\"line_width\":2,\"x\":{\"field\":\"Prediction for Linear Regression\"},\"y\":{\"field\":\"Actual for Linear Regression\"}},\"id\":\"2247\",\"type\":\"Line\"},{\"attributes\":{\"bottom_units\":\"screen\",\"coordinates\":null,\"fill_alpha\":0.5,\"fill_color\":\"lightgrey\",\"group\":null,\"left_units\":\"screen\",\"level\":\"overlay\",\"line_alpha\":1.0,\"line_color\":\"black\",\"line_dash\":[4,4],\"line_width\":2,\"right_units\":\"screen\",\"syncable\":false,\"top_units\":\"screen\"},\"id\":\"2215\",\"type\":\"BoxAnnotation\"}],\"root_ids\":[\"2188\"]},\"title\":\"Bokeh Application\",\"version\":\"2.4.3\"}};\n",
       "    var render_items = [{\"docid\":\"df3d8faa-9a04-4460-ae94-1f9e86470681\",\"root_ids\":[\"2188\"],\"roots\":{\"2188\":\"043bcef3-7f73-4be9-8b24-3560158cc680\"}}];\n",
       "    root.Bokeh.embed.embed_items_notebook(docs_json, render_items);\n",
       "    for (const render_item of render_items) {\n",
       "      for (const root_id of render_item.root_ids) {\n",
       "\tconst id_el = document.getElementById(root_id)\n",
       "\tif (id_el.children.length && (id_el.children[0].className === 'bk-root')) {\n",
       "\t  const root_el = id_el.children[0]\n",
       "\t  root_el.id = root_el.id + '-rendered'\n",
       "\t}\n",
       "      }\n",
       "    }\n",
       "  }\n",
       "  if (root.Bokeh !== undefined && root.Bokeh.Panel !== undefined) {\n",
       "    embed_document(root);\n",
       "  } else {\n",
       "    var attempts = 0;\n",
       "    var timer = setInterval(function(root) {\n",
       "      if (root.Bokeh !== undefined && root.Bokeh.Panel !== undefined) {\n",
       "        clearInterval(timer);\n",
       "        embed_document(root);\n",
       "      } else if (document.readyState == \"complete\") {\n",
       "        attempts++;\n",
       "        if (attempts > 200) {\n",
       "          clearInterval(timer);\n",
       "          console.log(\"Bokeh: ERROR: Unable to run BokehJS code because BokehJS library is missing\");\n",
       "        }\n",
       "      }\n",
       "    }, 25, root)\n",
       "  }\n",
       "})(window);</script>"
      ],
      "text/plain": [
       ":Overlay\n",
       "   .Curve.I  :Curve   [Prediction for Decision Tree Regression]   (Actual for Decision Tree Regression)\n",
       "   .Curve.II :Curve   [Prediction for Linear Regression]   (Actual for Linear Regression)"
      ]
     },
     "execution_count": 89,
     "metadata": {
      "application/vnd.holoviews_exec.v0+json": {
       "id": "2188"
      }
     },
     "output_type": "execute_result"
    }
   ],
   "source": [
    "plot_tree * plot_linear"
   ]
  }
 ],
 "metadata": {
  "kernelspec": {
   "display_name": "base",
   "language": "python",
   "name": "python3"
  },
  "language_info": {
   "codemirror_mode": {
    "name": "ipython",
    "version": 3
   },
   "file_extension": ".py",
   "mimetype": "text/x-python",
   "name": "python",
   "nbconvert_exporter": "python",
   "pygments_lexer": "ipython3",
   "version": "3.9.16"
  },
  "orig_nbformat": 4
 },
 "nbformat": 4,
 "nbformat_minor": 2
}
